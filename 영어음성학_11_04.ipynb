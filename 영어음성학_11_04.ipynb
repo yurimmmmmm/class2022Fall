{
  "nbformat": 4,
  "nbformat_minor": 0,
  "metadata": {
    "colab": {
      "provenance": [],
      "authorship_tag": "ABX9TyPhP/bKzpymYnKoNQpCsROw",
      "include_colab_link": true
    },
    "kernelspec": {
      "name": "python3",
      "display_name": "Python 3"
    },
    "language_info": {
      "name": "python"
    }
  },
  "cells": [
    {
      "cell_type": "markdown",
      "metadata": {
        "id": "view-in-github",
        "colab_type": "text"
      },
      "source": [
        "<a href=\"https://colab.research.google.com/github/yurimmmmmm/class2022Fall/blob/main/%EC%98%81%EC%96%B4%EC%9D%8C%EC%84%B1%ED%95%99_11_04.ipynb\" target=\"_parent\"><img src=\"https://colab.research.google.com/assets/colab-badge.svg\" alt=\"Open In Colab\"/></a>"
      ]
    },
    {
      "cell_type": "code",
      "execution_count": null,
      "metadata": {
        "colab": {
          "base_uri": "https://localhost:8080/"
        },
        "id": "nsNMSbWOEWw_",
        "outputId": "df2c7be4-a2df-4371-f6db-04e623393d8a"
      },
      "outputs": [
        {
          "output_type": "stream",
          "name": "stdout",
          "text": [
            "1\n"
          ]
        }
      ],
      "source": [
        "a = 1\n",
        "print(a)"
      ]
    },
    {
      "cell_type": "code",
      "source": [
        "c=[1,2,3,'abc', c, 3.1]\n",
        "print(c[0:5])"
      ],
      "metadata": {
        "colab": {
          "base_uri": "https://localhost:8080/"
        },
        "id": "XQM6-kpJFY1a",
        "outputId": "6c60ccfb-43b7-4260-b2a3-3e01e3981be1"
      },
      "execution_count": null,
      "outputs": [
        {
          "output_type": "stream",
          "name": "stdout",
          "text": [
            "[1, 2, 3, 'abc', [1, 2, 3, 'abc', [1, 2, 3, 'abc', [1, 2, 3, 'abc', 'a', 3.1], 3.1], 3.1]]\n"
          ]
        }
      ]
    },
    {
      "cell_type": "code",
      "source": [
        "print(c[0:5][4])"
      ],
      "metadata": {
        "colab": {
          "base_uri": "https://localhost:8080/"
        },
        "id": "YtVoY_FQNEC3",
        "outputId": "7adb0211-a05c-4a84-b226-220e2c180afe"
      },
      "execution_count": null,
      "outputs": [
        {
          "output_type": "stream",
          "name": "stdout",
          "text": [
            "[1, 2, 3, 'abc', [1, 2, 3, 'abc', [1, 2, 3, 'abc', 'a', 3.1], 3.1], 3.1]\n"
          ]
        }
      ]
    },
    {
      "cell_type": "code",
      "source": [
        "a =\t{\"a\": \"apple\", \"b\": \"orange\", \"c\": 2014}\n",
        "print(type(a))\n",
        "print(a[\"a\"])"
      ],
      "metadata": {
        "colab": {
          "base_uri": "https://localhost:8080/"
        },
        "id": "Wni6lG3wO4EI",
        "outputId": "6d8a52fc-ceba-4434-cca3-c2cd547b1f80"
      },
      "execution_count": null,
      "outputs": [
        {
          "output_type": "stream",
          "name": "stdout",
          "text": [
            "<class 'dict'>\n",
            "apple\n"
          ]
        }
      ]
    }
  ]
}