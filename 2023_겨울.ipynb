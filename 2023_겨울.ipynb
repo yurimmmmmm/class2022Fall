{
  "nbformat": 4,
  "nbformat_minor": 0,
  "metadata": {
    "colab": {
      "provenance": [],
      "authorship_tag": "ABX9TyMSaVweOPi/GUPfDsQHX9X2",
      "include_colab_link": true
    },
    "kernelspec": {
      "name": "python3",
      "display_name": "Python 3"
    },
    "language_info": {
      "name": "python"
    }
  },
  "cells": [
    {
      "cell_type": "markdown",
      "metadata": {
        "id": "view-in-github",
        "colab_type": "text"
      },
      "source": [
        "<a href=\"https://colab.research.google.com/github/yurimmmmmm/class2022Fall/blob/main/2023_%EA%B2%A8%EC%9A%B8.ipynb\" target=\"_parent\"><img src=\"https://colab.research.google.com/assets/colab-badge.svg\" alt=\"Open In Colab\"/></a>"
      ]
    },
    {
      "cell_type": "code",
      "execution_count": 4,
      "metadata": {
        "colab": {
          "base_uri": "https://localhost:8080/"
        },
        "id": "PJsXJuk2j2ZO",
        "outputId": "6668a531-0ddf-438e-c0aa-fb04f5b29bb3"
      },
      "outputs": [
        {
          "output_type": "stream",
          "name": "stdout",
          "text": [
            "a를 입력하세요:40\n",
            "b를 입력하세요:20\n",
            "a+b= 60\n",
            "a*b= 800\n",
            "a-b= 20\n",
            "a/b= 2.0\n"
          ]
        }
      ],
      "source": [
        "a= int(input(\"a를 입력하세요:\"))\n",
        "b= int(input(\"b를 입력하세요:\"))\n",
        "print(\"a+b=\", a+b)\n",
        "print(\"a*b=\", a*b)\n",
        "print(\"a-b=\", a-b)\n",
        "print(\"a/b=\", a/b)"
      ]
    }
  ]
}